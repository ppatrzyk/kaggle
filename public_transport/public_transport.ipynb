{
 "cells": [
  {
   "cell_type": "code",
   "execution_count": 1,
   "id": "441bb0f3",
   "metadata": {},
   "outputs": [],
   "source": [
    "import altair as alt\n",
    "import polars as pl"
   ]
  },
  {
   "cell_type": "code",
   "execution_count": 2,
   "id": "85d3d317",
   "metadata": {},
   "outputs": [],
   "source": [
    "positions = pl.read_csv(\"positions.csv\")"
   ]
  },
  {
   "cell_type": "code",
   "execution_count": 3,
   "id": "ce7dac57",
   "metadata": {},
   "outputs": [],
   "source": [
    "positions = positions.with_column(\n",
    "    (pl.col(\"timestamp\")+\"Z\").str.strptime(pl.Datetime, fmt=\"%+\", strict=False)\n",
    ")"
   ]
  }
 ],
 "metadata": {
  "kernelspec": {
   "display_name": "Python 3 (ipykernel)",
   "language": "python",
   "name": "python3"
  },
  "language_info": {
   "codemirror_mode": {
    "name": "ipython",
    "version": 3
   },
   "file_extension": ".py",
   "mimetype": "text/x-python",
   "name": "python",
   "nbconvert_exporter": "python",
   "pygments_lexer": "ipython3",
   "version": "3.8.10"
  }
 },
 "nbformat": 4,
 "nbformat_minor": 5
}
