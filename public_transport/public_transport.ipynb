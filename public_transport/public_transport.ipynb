{
 "cells": [
  {
   "cell_type": "code",
   "execution_count": 1,
   "id": "441bb0f3",
   "metadata": {},
   "outputs": [],
   "source": [
    "import altair as alt\n",
    "import numpy as np\n",
    "import polars as pl\n"
   ]
  },
  {
   "cell_type": "code",
   "execution_count": 2,
   "id": "85d3d317",
   "metadata": {},
   "outputs": [],
   "source": [
    "positions = pl.read_csv(\"positions.csv\")"
   ]
  },
  {
   "cell_type": "code",
   "execution_count": 3,
   "id": "ce7dac57",
   "metadata": {},
   "outputs": [],
   "source": [
    "positions = positions.filter(\n",
    "    (pl.col(\"x\") > -90) & (pl.col(\"x\") < 90) & (pl.col(\"y\") > -180) & (pl.col(\"y\") < 180)\n",
    ").sort(\n",
    "    [\"k\", \"timestamp\"]\n",
    ").with_columns(\n",
    "    (pl.col(\"timestamp\")+\"Z\").str.strptime(pl.Datetime, fmt=\"%+\", strict=False)\n",
    ").with_columns(\n",
    "    pl.internals.expr.ExprDateTimeNameSpace.seconds(pl.col(\"timestamp\")-pl.col(\"timestamp\").shift(1)).alias(\"time_diff_s\")\n",
    ")"
   ]
  },
  {
   "cell_type": "code",
   "execution_count": 4,
   "id": "8ae3acd9",
   "metadata": {},
   "outputs": [],
   "source": [
    "# https://stackoverflow.com/questions/365826/calculate-distance-between-2-gps-coordinates\n",
    "positions['distance_km'] = positions.select(\n",
    "    [\"x\", \"y\", pl.col(\"x\").shift(1).alias(\"prev_x\"), pl.col(\"y\").shift(1).alias(\"prev_y\")]\n",
    ").select(\n",
    "    [np.deg2rad(pl.col(\"x\")), np.deg2rad(pl.col(\"y\")), np.deg2rad(pl.col(\"prev_x\")), np.deg2rad(pl.col(\"prev_y\")), ]\n",
    ").with_columns([\n",
    "    (pl.col(\"x\") - pl.col(\"prev_x\")).alias(\"d_lat\"),\n",
    "    (pl.col(\"y\") - pl.col(\"prev_y\")).alias(\"d_lon\"),\n",
    "]).with_columns([\n",
    "    ((pl.col(\"d_lat\") / 2).sin().pow(2) + (pl.col(\"d_lon\") / 2).sin().pow(2) * pl.col(\"prev_x\").cos() * pl.col(\"x\").cos()).alias(\"a\")\n",
    "]).with_columns([\n",
    "    ((pl.col(\"a\").sqrt() / (1-pl.col(\"a\")).sqrt()).arctan() * 2 * 6373).alias(\"distance_km\")\n",
    "])['distance_km']"
   ]
  },
  {
   "cell_type": "code",
   "execution_count": 5,
   "id": "28ed9033",
   "metadata": {},
   "outputs": [],
   "source": [
    "positions = positions.with_column(\n",
    "    pl.when(pl.col(\"k\").is_first())\n",
    "    .then(None)\n",
    "    .otherwise(pl.col(\"time_diff_s\")).alias(\"time_diff_s\")\n",
    ").with_column(\n",
    "    pl.when(pl.col(\"k\").is_first())\n",
    "    .then(None)\n",
    "    .otherwise(pl.col(\"distance_km\")).alias(\"distance_km\")\n",
    ").with_column(\n",
    "    (pl.col(\"distance_km\") / pl.col(\"time_diff_s\") * 3600).alias(\"speed_km_h\")\n",
    ")"
   ]
  }
 ],
 "metadata": {
  "kernelspec": {
   "display_name": "Python 3 (ipykernel)",
   "language": "python",
   "name": "python3"
  },
  "language_info": {
   "codemirror_mode": {
    "name": "ipython",
    "version": 3
   },
   "file_extension": ".py",
   "mimetype": "text/x-python",
   "name": "python",
   "nbconvert_exporter": "python",
   "pygments_lexer": "ipython3",
   "version": "3.8.10"
  }
 },
 "nbformat": 4,
 "nbformat_minor": 5
}
